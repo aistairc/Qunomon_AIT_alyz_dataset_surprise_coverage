{
 "cells": [
  {
   "cell_type": "markdown",
   "metadata": {
    "deletable": false,
    "editable": false
   },
   "source": [
    "# AIT Development notebook"
   ]
  },
  {
   "cell_type": "markdown",
   "metadata": {
    "deletable": false,
    "editable": false
   },
   "source": [
    "## notebook of structure"
   ]
  },
  {
   "cell_type": "markdown",
   "metadata": {
    "deletable": false,
    "editable": false
   },
   "source": [
    "| #  | Name                                               | cells | for_dev | edit               | description                                                                |\n",
    "|----|----------------------------------------------------|-------|---------|--------------------|----------------------------------------------------------------------------|\n",
    "| 1  | [Environment detection](##1-Environment-detection) | 1     | No      | uneditable         | detect whether the notebook are invoked for packaging or in production     |\n",
    "| 2  | [Preparing AIT SDK](##2-Preparing-AIT-SDK)         | 1     | Yes     | uneditable         | download and install AIT SDK                                               |\n",
    "| 3  | [Dependency Management](##3-Dependency-Management) | 3     | Yes     | required(cell #2)  | generate requirements.txt for Docker container                             |\n",
    "| 4  | [Importing Libraries](##4-Importing-Libraries)     | 2     | Yes     | required(cell #1)  | import required libraries                                                  |\n",
    "| 5  | [Manifest Generation](##5-Manifest-Generation)     | 1     | Yes     | required           | generate AIT Manifest                                                      |\n",
    "| 6  | [Prepare for the Input](##6-Prepare-for-the-Input) | 1     | Yes     | required           | generate AIT Input JSON (inventory mapper)                                 |\n",
    "| 7  | [Initialization](##7-Initialization)               | 1     | No      | uneditable         | initialization for AIT execution                                           |\n",
    "| 8  | [Function definitions](##8-Function-definitions)   | N     | No      | required           | define functions invoked from Main area.<br> also define output functions. |\n",
    "| 9  | [Main Algorithms](##9-Main-Algorithms)             | 1     | No      | required           | area for main algorithms of an AIT                                         |\n",
    "| 10 | [Entry point](##10-Entry-point)                    | 1     | No      | uneditable         | an entry point where Qunomon invoke this AIT from here                     |\n",
    "| 11 | [License](##11-License)                            | 1     | Yes     | required           | generate license information                                               |\n",
    "| 12 | [Deployment](##12-Deployment)                      | 1     | Yes     | uneditable         | convert this notebook to the python file for packaging purpose             |"
   ]
  },
  {
   "cell_type": "markdown",
   "metadata": {
    "deletable": false,
    "editable": false
   },
   "source": [
    "## notebook template revision history"
   ]
  },
  {
   "cell_type": "markdown",
   "metadata": {
    "deletable": false,
    "editable": false
   },
   "source": [
    "1.0.1 2020/10/21\n",
    "\n",
    "* add revision history\n",
    "* separate `create requirements and pip install` editable and noeditable\n",
    "* separate `import` editable and noeditable\n",
    "\n",
    "1.0.0 2020/10/12\n",
    "\n",
    "* new cerarion"
   ]
  },
  {
   "cell_type": "markdown",
   "metadata": {
    "deletable": false,
    "editable": false
   },
   "source": [
    "## body"
   ]
  },
  {
   "cell_type": "markdown",
   "metadata": {
    "deletable": false,
    "editable": false
   },
   "source": [
    "### #1 Environment detection"
   ]
  },
  {
   "cell_type": "markdown",
   "metadata": {
    "deletable": false,
    "editable": false
   },
   "source": [
    "[uneditable]"
   ]
  },
  {
   "cell_type": "code",
   "execution_count": 1,
   "metadata": {
    "deletable": false,
    "editable": false
   },
   "outputs": [],
   "source": [
    "# Determine whether to start AIT or jupyter by startup argument\n",
    "import sys\n",
    "is_ait_launch = (len(sys.argv) == 2)"
   ]
  },
  {
   "cell_type": "markdown",
   "metadata": {
    "deletable": false,
    "editable": false
   },
   "source": [
    "### #2 Preparing AIT SDK"
   ]
  },
  {
   "cell_type": "markdown",
   "metadata": {
    "deletable": false,
    "editable": false
   },
   "source": [
    "[uneditable]"
   ]
  },
  {
   "cell_type": "code",
   "execution_count": 2,
   "metadata": {
    "deletable": false,
    "editable": false
   },
   "outputs": [
    {
     "name": "stdout",
     "output_type": "stream",
     "text": [
      "\u001b[33mWARNING: Running pip as the 'root' user can result in broken permissions and conflicting behaviour with the system package manager, possibly rendering your system unusable.It is recommended to use a virtual environment instead: https://pip.pypa.io/warnings/venv. Use the --root-user-action option if you know what you are doing and want to suppress this warning.\u001b[0m\u001b[33m\n",
      "\u001b[0m\u001b[33mWARNING: Running pip as the 'root' user can result in broken permissions and conflicting behaviour with the system package manager, possibly rendering your system unusable.It is recommended to use a virtual environment instead: https://pip.pypa.io/warnings/venv. Use the --root-user-action option if you know what you are doing and want to suppress this warning.\u001b[0m\u001b[33m\n",
      "\u001b[0m"
     ]
    }
   ],
   "source": [
    "if not is_ait_launch:\n",
    "    # get ait-sdk file name\n",
    "    from pathlib import Path\n",
    "    from glob import glob\n",
    "    import re\n",
    "    import os\n",
    "\n",
    "    current_dir = %pwd\n",
    "\n",
    "    ait_sdk_path = \"./ait_sdk-*-py3-none-any.whl\"\n",
    "    ait_sdk_list = glob(ait_sdk_path)\n",
    "    ait_sdk_name = os.path.basename(ait_sdk_list[-1])\n",
    "\n",
    "    # install ait-sdk\n",
    "    !pip install -q --upgrade pip\n",
    "    !pip install -q --no-deps --force-reinstall ./$ait_sdk_name"
   ]
  },
  {
   "cell_type": "markdown",
   "metadata": {
    "deletable": false,
    "editable": false
   },
   "source": [
    "### #3 Dependency Management"
   ]
  },
  {
   "cell_type": "markdown",
   "metadata": {
    "deletable": false,
    "editable": false
   },
   "source": [
    "#### #3-1 [uneditable]"
   ]
  },
  {
   "cell_type": "code",
   "execution_count": 3,
   "metadata": {
    "deletable": false,
    "editable": false
   },
   "outputs": [],
   "source": [
    "if not is_ait_launch:\n",
    "    from ait_sdk.common.files.ait_requirements_generator import AITRequirementsGenerator\n",
    "    requirements_generator = AITRequirementsGenerator()"
   ]
  },
  {
   "cell_type": "markdown",
   "metadata": {
    "deletable": false,
    "editable": false
   },
   "source": [
    "#### #3-2 [required]"
   ]
  },
  {
   "cell_type": "code",
   "execution_count": 4,
   "metadata": {},
   "outputs": [],
   "source": [
    "if not is_ait_launch:\n",
    "    requirements_generator.add_package('pandas', '2.0.3')\n",
    "    requirements_generator.add_package('numpy','1.26.4')\n",
    "    requirements_generator.add_package('h5py','3.12.1')\n",
    "    requirements_generator.add_package('torch','2.5.1')\n",
    "    requirements_generator.add_package('torchvision','0.20.1')\n",
    "    requirements_generator.add_package('scikit-learn','1.5.2')"
   ]
  },
  {
   "cell_type": "markdown",
   "metadata": {
    "deletable": false,
    "editable": false
   },
   "source": [
    "#### #3-3 [uneditable]"
   ]
  },
  {
   "cell_type": "code",
   "execution_count": 5,
   "metadata": {
    "deletable": false,
    "editable": false
   },
   "outputs": [
    {
     "name": "stdout",
     "output_type": "stream",
     "text": [
      "\u001b[33mWARNING: Running pip as the 'root' user can result in broken permissions and conflicting behaviour with the system package manager, possibly rendering your system unusable.It is recommended to use a virtual environment instead: https://pip.pypa.io/warnings/venv. Use the --root-user-action option if you know what you are doing and want to suppress this warning.\u001b[0m\u001b[33m\n",
      "\u001b[0m"
     ]
    }
   ],
   "source": [
    "if not is_ait_launch:\n",
    "    requirements_generator.add_package(f'./{ait_sdk_name}')\n",
    "    requirements_path = requirements_generator.create_requirements(current_dir)\n",
    "\n",
    "    !pip install -q -r $requirements_path "
   ]
  },
  {
   "cell_type": "markdown",
   "metadata": {
    "deletable": false,
    "editable": false
   },
   "source": [
    "### #4 Importing Libraries"
   ]
  },
  {
   "cell_type": "markdown",
   "metadata": {
    "deletable": false,
    "editable": false
   },
   "source": [
    "#### #4-1 [required]"
   ]
  },
  {
   "cell_type": "code",
   "execution_count": 6,
   "metadata": {},
   "outputs": [],
   "source": [
    "# import if you need modules cell\n",
    "\n",
    "import pandas as pd\n",
    "import matplotlib.pyplot as plt\n",
    "import numpy as np\n",
    "from sklearn.neighbors import KernelDensity\n",
    "import h5py\n",
    "import json\n",
    "import torch\n",
    "import torch.nn as nn\n",
    "import torch.nn.functional as F\n",
    "from torch.utils.data import Dataset, DataLoader\n"
   ]
  },
  {
   "cell_type": "markdown",
   "metadata": {
    "deletable": false,
    "editable": false
   },
   "source": [
    "#### #4-2 [uneditable]"
   ]
  },
  {
   "cell_type": "code",
   "execution_count": 7,
   "metadata": {
    "deletable": false,
    "editable": false
   },
   "outputs": [],
   "source": [
    "# must use modules\n",
    "from os import path\n",
    "import shutil  # do not remove\n",
    "from ait_sdk.common.files.ait_input import AITInput  # do not remove\n",
    "from ait_sdk.common.files.ait_output import AITOutput  # do not remove\n",
    "from ait_sdk.common.files.ait_manifest import AITManifest  # do not remove\n",
    "from ait_sdk.develop.ait_path_helper import AITPathHelper  # do not remove\n",
    "from ait_sdk.utils.logging import get_logger, log, get_log_path  # do not remove\n",
    "from ait_sdk.develop.annotation import measures, resources, downloads, ait_main  # do not remove\n",
    "# must use modules"
   ]
  },
  {
   "cell_type": "markdown",
   "metadata": {
    "deletable": false,
    "editable": false
   },
   "source": [
    "### #5 Manifest Generation"
   ]
  },
  {
   "cell_type": "markdown",
   "metadata": {
    "deletable": false,
    "editable": false
   },
   "source": [
    "[required]"
   ]
  },
  {
   "cell_type": "code",
   "execution_count": 8,
   "metadata": {},
   "outputs": [],
   "source": [
    "if not is_ait_launch:\n",
    "    from ait_sdk.common.files.ait_manifest_generator import AITManifestGenerator\n",
    "    manifest_genenerator = AITManifestGenerator(current_dir)\n",
    "    manifest_genenerator.set_ait_name('alyz_dataset_surprise_coverage')\n",
    "    manifest_genenerator.set_ait_description('モデルがテストデータに対して意外性のある入力をどれだけカバーしているかを測定することでデータセットの多様性を評価する。\\nこれにより、データセットが異なる特徴を豊富に含んでいるかを把握することができる。分布に基づいた評価と空間的な距離に基づいた評価の2つの観点からデータセットの多様性を評価することでより安定した評価ができる。')\n",
    "    manifest_genenerator.set_ait_source_repository('https://github.com/aistairc/Qunomon_AIT_alyz_dataset_surprise_coverage')\n",
    "    manifest_genenerator.set_ait_version('1.0')\n",
    "    manifest_genenerator.add_ait_licenses('Apache License Version 2.0')\n",
    "    manifest_genenerator.add_ait_keywords('Surprise Coverage')\n",
    "    manifest_genenerator.add_ait_keywords('DSA')\n",
    "    manifest_genenerator.add_ait_keywords('LSA')\n",
    "    manifest_genenerator.add_ait_keywords('image')\n",
    "    manifest_genenerator.set_ait_quality('https://ait-hub.pj.aist.go.jp/ait-hub/api/0.0.1/qualityDimensions/機械学習品質マネジメントガイドライン第三版/B-1データセットの被覆性')\n",
    "    #### Inventories\n",
    "    inventory_requirement_dataset = manifest_genenerator.format_ait_inventory_requirement(format_=['h5'])\n",
    "    manifest_genenerator.add_ait_inventories(name='train_dataset', \n",
    "                                             type_='dataset', \n",
    "                                             description='HDF5形式の学習用データセット。内部は2つのHDF5ファイルを用意する(ファイル名は任意)\\n(1)モデルに入力される多次元配列を含むデータセット(データセット(1)の要素数はtrained_modelの入力層の要素数と一致)\\n(2)データの各サンプルの正解ラベルを含むデータセット(データセット(2)の要素数はtrained_modelの出力層の要素数と一致))\\n\\nファイル構造:\\n sample.h5\\n   ├── (1) 学習用入力データセット\\n   └── (2) 学習用ラベルデータセット\\n', \n",
    "                                             requirement= inventory_requirement_dataset)\n",
    "    manifest_genenerator.add_ait_inventories(name='test_dataset', \n",
    "                                             type_='dataset', \n",
    "                                             description='HDF5形式のテスト用データセット。内部は2つのHDF5ファイルを用意する(ファイル名は任意)\\n(1)モデルに入力される多次元配列を含むデータセット(データセット(1)の要素数はtrained_modelの入力層の要素数と一致)\\n(2)データの各サンプルの正解ラベルを含むデータセット(データセット(2)の要素数はtrained_modelの出力層の要素数と一致))\\n\\nファイル構造:\\n sample.h5\\n   ├── (1) テスト用入力データセット\\n   └── (2) テスト用ラベルデータセット\\n', \n",
    "                                             requirement= inventory_requirement_dataset)\n",
    "    inventory_requirement_trained_model = manifest_genenerator.format_ait_inventory_requirement(format_=['pth'])\n",
    "    inventory_requirement_trained_model_architecture = manifest_genenerator.format_ait_inventory_requirement(format_=['json'])\n",
    "    manifest_genenerator.add_ait_inventories(name='trained_model', \n",
    "                                              type_='model', \n",
    "                                              description='Pytorchでモデルの状態辞書が保存されたデータ。モデルの構造は含まれていない。', \n",
    "                                              requirement=inventory_requirement_trained_model)\n",
    "    manifest_genenerator.add_ait_inventories(name='trained_model_architecture', \n",
    "                                              type_='model', \n",
    "                                              description='json形式で記述されたモデルのアーキテクチャ情報（層の種類、接続、パラメータなど）。入力と出力の要素数はtrain_dataset inventoryとtest_dataset inventoryと一致させる', \n",
    "                                              requirement=inventory_requirement_trained_model_architecture)\n",
    "    #### Parameters\n",
    "    manifest_genenerator.add_ait_parameters(name='train_input_dataset_name', \n",
    "                                            type_='str', \n",
    "                                            description='train_dataset inventoryで説明されているデータセット(1)のファイル名', \n",
    "                                            default_val='x_train')\n",
    "    manifest_genenerator.add_ait_parameters(name='train_label_dataset_name', \n",
    "                                            type_='str', \n",
    "                                            description='train_dataset inventoryで説明されているデータセット(2)のファイル名', \n",
    "                                            default_val='y_train')\n",
    "    manifest_genenerator.add_ait_parameters(name='test_input_dataset_name', \n",
    "                                            type_='str', \n",
    "                                            description='test_dataset inventoryで説明されているデータセット(1)のファイル名', \n",
    "                                            default_val='x_test')\n",
    "    manifest_genenerator.add_ait_parameters(name='test_label_dataset_name', \n",
    "                                            type_='str', \n",
    "                                            description='test_dataset inventoryで説明されているデータセット(2)のファイル名', \n",
    "                                            default_val='y_test')\n",
    "    manifest_genenerator.add_ait_parameters(name='kde_bandwidth',\n",
    "                                            type_='float',\n",
    "                                            default_val='0.5',\n",
    "                                            min_value='0.1',\n",
    "                                            max_value='1',\n",
    "                                            description='LSAを計算するときのカーネル密度推定に指定するバンド幅')\n",
    "    manifest_genenerator.add_ait_parameters(name='dataset_channel',\n",
    "                                          type_='int',\n",
    "                                          default_val='1',\n",
    "                                          description='train_dataset inventoryで説明されているデータセット(1)とtest_dataset inventoryで説明されているデータセット(1)のチャネル数')\n",
    "    #### Measures\n",
    "    manifest_genenerator.add_ait_measures(name='Likelihood-based_Surprise_Coverage',\n",
    "                                          type_='float',\n",
    "                                          structure='single',\n",
    "                                          description='テストデータセットのLikelihood-based Surprise Adequacyを使ったSurprise Coverage。値が大きいほどデータのカバー範囲が広い。')\n",
    "    manifest_genenerator.add_ait_measures(name='Distance-based_Surprise_Coverage',\n",
    "                                          type_='float',\n",
    "                                          structure='single',\n",
    "                                          description='テストデータセットのDistance-based Surprise Adequacyを使ったSurprise Coverage。値が大きいほどデータのカバー範囲が広い。')\n",
    "    #### Resources\n",
    "    manifest_genenerator.add_ait_resources(name='DSC_distribution_Plot',\n",
    "                                         type_='picture', \n",
    "                                         description='DSCでのデータの意外性のカバレッジ分布')\n",
    "    manifest_genenerator.add_ait_resources(name='LSC_distribution_Plot',\n",
    "                                         type_='picture', \n",
    "                                         description='LSCでのデータの意外性のカバレッジ分布')\n",
    "    manifest_genenerator.add_ait_resources(name='DSC_distribution_table', \n",
    "                                         type_='table', \n",
    "                                         description='DSCの分布表')\n",
    "    manifest_genenerator.add_ait_resources(name='LSC_distribution_table', \n",
    "                                         type_='table', \n",
    "                                         description='LSCの分布表')\n",
    "    #### Downloads\n",
    "    manifest_genenerator.add_ait_downloads(name='Log', \n",
    "                                           description='AIT実行ログ')\n",
    "    manifest_path = manifest_genenerator.write()"
   ]
  },
  {
   "cell_type": "markdown",
   "metadata": {
    "deletable": false,
    "editable": false
   },
   "source": [
    "### #6 Prepare for the Input"
   ]
  },
  {
   "cell_type": "markdown",
   "metadata": {
    "deletable": false,
    "editable": false
   },
   "source": [
    "[required]"
   ]
  },
  {
   "cell_type": "code",
   "execution_count": 9,
   "metadata": {},
   "outputs": [],
   "source": [
    "if not is_ait_launch:\n",
    "    from ait_sdk.common.files.ait_input_generator import AITInputGenerator\n",
    "    input_generator = AITInputGenerator(manifest_path)\n",
    "    input_generator.add_ait_inventories(name='train_dataset',\n",
    "                                        value='mnist_data/aug_train.h5')\n",
    "    input_generator.add_ait_inventories(name='test_dataset',\n",
    "                                        value='mnist_data/aug_test.h5')\n",
    "    input_generator.add_ait_inventories(name='trained_model',\n",
    "                                        value='dict_models/LeNet5_model.pth')\n",
    "    input_generator.add_ait_inventories(name='trained_model_architecture',\n",
    "                                        value='dict_models/model_achitecture.json')\n",
    "    input_generator.set_ait_params(\"train_input_dataset_name\", \"train_image\")\n",
    "    input_generator.set_ait_params(\"train_label_dataset_name\", \"train_label\")\n",
    "    input_generator.set_ait_params(\"test_input_dataset_name\", \"test_image\")\n",
    "    input_generator.set_ait_params(\"test_label_dataset_name\", \"test_label\")\n",
    "    input_generator.write()"
   ]
  },
  {
   "cell_type": "markdown",
   "metadata": {
    "deletable": false,
    "editable": false
   },
   "source": [
    "### #7 Initialization"
   ]
  },
  {
   "cell_type": "markdown",
   "metadata": {
    "deletable": false,
    "editable": false
   },
   "source": [
    "[uneditable]"
   ]
  },
  {
   "cell_type": "code",
   "execution_count": 10,
   "metadata": {
    "deletable": false,
    "editable": false
   },
   "outputs": [],
   "source": [
    "logger = get_logger()\n",
    "\n",
    "ait_manifest = AITManifest()\n",
    "ait_input = AITInput(ait_manifest)\n",
    "ait_output = AITOutput(ait_manifest)\n",
    "\n",
    "if is_ait_launch:\n",
    "    # launch from AIT\n",
    "    current_dir = path.dirname(path.abspath(__file__))\n",
    "    path_helper = AITPathHelper(argv=sys.argv, ait_input=ait_input, ait_manifest=ait_manifest, entry_point_dir=current_dir)\n",
    "else:\n",
    "    # launch from jupyter notebook\n",
    "    # ait.input.json make in input_dir\n",
    "    input_dir = '/usr/local/qai/mnt/ip/job_args/1/1'\n",
    "    current_dir = %pwd\n",
    "    path_helper = AITPathHelper(argv=['', input_dir], ait_input=ait_input, ait_manifest=ait_manifest, entry_point_dir=current_dir)\n",
    "\n",
    "ait_input.read_json(path_helper.get_input_file_path())\n",
    "ait_manifest.read_json(path_helper.get_manifest_file_path())\n",
    "\n",
    "### do not edit cell"
   ]
  },
  {
   "cell_type": "markdown",
   "metadata": {
    "deletable": false,
    "editable": false
   },
   "source": [
    "### #8 Function definitions"
   ]
  },
  {
   "cell_type": "markdown",
   "metadata": {
    "deletable": false,
    "editable": false
   },
   "source": [
    "[required]"
   ]
  },
  {
   "cell_type": "code",
   "execution_count": 11,
   "metadata": {},
   "outputs": [],
   "source": [
    "@log(logger)\n",
    "def get_layer_name(model):\n",
    "    layer_name = None\n",
    "    for name , module in model.named_modules():\n",
    "        if isinstance(module,nn.Conv2d):\n",
    "            layer_name = name\n",
    "            \n",
    "    if layer_name is None:\n",
    "        raise ValueError(\"Conv2d layer is None.\")\n",
    "    return layer_name"
   ]
  },
  {
   "cell_type": "code",
   "execution_count": 12,
   "metadata": {},
   "outputs": [],
   "source": [
    "\n",
    "@log(logger)\n",
    "def build_model(json_file):\n",
    "    with open(json_file,'r') as f:\n",
    "        config = json.load(f)\n",
    "\n",
    "    class DynamicModel(nn.Module):\n",
    "        def __init__(self):\n",
    "            super(DynamicModel,self).__init__()\n",
    "            \n",
    "            for layer in config['layers']:\n",
    "                layer_name = layer['name']\n",
    "                layer_type = layer['type']\n",
    "                params = layer['params']\n",
    "                setattr(self,layer_name,getattr(nn, layer_type)(**params))\n",
    "\n",
    "        def forward(self,x):\n",
    "            for layer in config['layers']:\n",
    "                layer_name = layer['name']\n",
    "                layer_type = layer['type']\n",
    "                if \"Dropout\" in layer_type:\n",
    "                    x = getattr(self,layer_name)(x)\n",
    "                elif \"Linear\" in layer_type:\n",
    "                    if len(x.shape)>2:\n",
    "                        x = x.view(x.size(0),64)\n",
    "                    x = getattr(self, layer_name)(x)\n",
    "\n",
    "                else:\n",
    "                    x= torch.relu(getattr(self, layer_name)(x))\n",
    "\n",
    "            return x\n",
    "        \n",
    "    return DynamicModel()"
   ]
  },
  {
   "cell_type": "code",
   "execution_count": 13,
   "metadata": {},
   "outputs": [],
   "source": [
    "#@log(logger)\n",
    "class SC_Analyzer:\n",
    "    def __init__(self,model):\n",
    "        self.model = model\n",
    "\n",
    "    def calculate_dsa(self,train_activations,train_labels,test_activations,test_labels):\n",
    "        dsa_values=[]\n",
    "        for Num,test_activations in enumerate(test_activations):\n",
    "            test_label = test_labels[Num]\n",
    "            \n",
    "            same_class_activations = train_activations[train_labels == test_label]\n",
    "            diff_class_activations = train_activations[train_labels != test_label]\n",
    "            \n",
    "            same_class_distances = np.linalg.norm(same_class_activations - test_activations, axis=1)\n",
    "            diff_class_distances = np.linalg.norm(diff_class_activations - test_activations, axis=1)\n",
    "            \n",
    "            min_same_class_distance = np.min(same_class_distances)\n",
    "            min_diff_class_distance = np.min(diff_class_distances)\n",
    "            \n",
    "            dsa_value = min_same_class_distance / min_diff_class_distance\n",
    "            dsa_values.append(dsa_value)\n",
    "            \n",
    "        return np.array(dsa_values)\n",
    "    \n",
    "    def calculate_lsa(self,train_activations,test_activations,bandwidth):\n",
    "        kde=KernelDensity(kernel='gaussian',bandwidth=bandwidth).fit(train_activations)\n",
    "        log_density = kde.score_samples(test_activations)\n",
    "        lsa_values = -log_density\n",
    "        return lsa_values\n",
    "    \n",
    "    @measures(ait_output, 'Distance-based_Surprise_Coverage')\n",
    "    def calculate_DSC(self, values, n_buckets=20, percentile=90):\n",
    "        U = np.percentile(values, percentile)\n",
    "        bucket_range = [(U*(i/n_buckets), U*((i+1)/n_buckets)) for i in range(n_buckets)]\n",
    "        covered_buckets = 0\n",
    "        for lower, upper in bucket_range:\n",
    "            if np.any((values > lower) & (values <= upper)):\n",
    "                covered_buckets +=1\n",
    "        DSC_value = covered_buckets / n_buckets\n",
    "        return DSC_value\n",
    "    \n",
    "    @measures(ait_output, 'Likelihood-based_Surprise_Coverage')\n",
    "    def calculate_LSC(self, values, n_buckets=10, percentile=95):\n",
    "        U = np.percentile(values, percentile)\n",
    "        bucket_range = [(U*(i/n_buckets), U*((i+1)/n_buckets)) for i in range(n_buckets)]\n",
    "        covered_buckets = 0\n",
    "        for lower, upper in bucket_range:\n",
    "            if np.any((values > lower) & (values <= upper)):\n",
    "                covered_buckets +=1\n",
    "        LSC_value = covered_buckets / n_buckets\n",
    "        return LSC_value"
   ]
  },
  {
   "cell_type": "code",
   "execution_count": 14,
   "metadata": {},
   "outputs": [],
   "source": [
    "@log(logger)\n",
    "def get_activation_trace(model, data_loader, layer_name, channels):\n",
    "    activations, labels = [],[]\n",
    "    activation_outputs={}\n",
    "    \n",
    "    def hook_fn(module,input,output):\n",
    "        activation_outputs[layer_name] = output.detach()\n",
    "    \n",
    "    for name, layer in model.named_modules():\n",
    "        if name == layer_name:\n",
    "            layer.register_forward_hook(hook_fn)\n",
    "            break\n",
    "    with torch.no_grad():\n",
    "        for images ,labels_batch in data_loader:\n",
    "            if channels ==3 and images.shape[1]==1:\n",
    "                images = images.repeat(1,3,1,1)\n",
    "\n",
    "            _ = model(images)\n",
    "            batch_activations = activation_outputs[layer_name].cpu().numpy().reshape(images.size(0),-1)\n",
    "\n",
    "            activations.append(batch_activations)\n",
    "            labels.append(labels_batch)\n",
    "            \n",
    "    activations = np.concatenate(activations,axis=0)\n",
    "    labels = np.concatenate(labels,axis=0)\n",
    "    \n",
    "    return activations, labels"
   ]
  },
  {
   "cell_type": "code",
   "execution_count": 15,
   "metadata": {},
   "outputs": [],
   "source": [
    "#@log(logger)\n",
    "class h5_dataset(Dataset):\n",
    "    def __init__(self,h5_file_path,x_name,y_name, channels=1):\n",
    "        self.h5_file = h5py.File(h5_file_path,'r')\n",
    "        self.images = self.h5_file[x_name]\n",
    "        self.labels = self.h5_file[y_name]\n",
    "        self.channels = channels\n",
    "        \n",
    "    def __len__(self):\n",
    "        return len(self.labels)\n",
    "    \n",
    "    def __getitem__(self,idx):\n",
    "        image = torch.tensor(self.images[idx],dtype=torch.float32)\n",
    "        label = torch.tensor(self.labels[idx],dtype=torch.long)\n",
    "        if self.channels == 3 and images.shape[0] ==1:\n",
    "            images = images.repeat(3,1,1)\n",
    "        \n",
    "        return image, label\n",
    "    \n",
    "    def close(self):\n",
    "        self.h5_file.close()"
   ]
  },
  {
   "cell_type": "code",
   "execution_count": 16,
   "metadata": {},
   "outputs": [],
   "source": [
    "@log(logger)\n",
    "@resources(ait_output, path_helper, 'DSC_distribution_table',\"SC_distribution_table.csv\")\n",
    "def DSC_distributions_table(values, n_buckets=20, percentile=90,file_path: str=None):\n",
    "    U = np.percentile(values, percentile)\n",
    "    bucket_range = [(U*(i/n_buckets), U*((i+1)/n_buckets)) for i in range(n_buckets)]\n",
    "    covered_buckets = 0\n",
    "\n",
    "    covered_buckets = [np.sum((values > lower) & (values <= upper)) for lower, upper in bucket_range]\n",
    "    bucket_labels = [f\"b{i+1}\" for i in range(n_buckets)]\n",
    "    dsc_df= pd.DataFrame({\n",
    "        \"Bucket\":  bucket_labels,\n",
    "        \"Range\":[f\"{lower:.2f} - {upper:.2f}\" for lower, upper in bucket_range],\n",
    "        \"Count\":covered_buckets\n",
    "        })\n",
    "    print(\"\\nDistance-based Surprise Coverage Distribution(Table):\")\n",
    "    print(dsc_df)\n",
    "    dsc_df.to_csv(file_path)\n",
    "    return dsc_df"
   ]
  },
  {
   "cell_type": "code",
   "execution_count": 17,
   "metadata": {},
   "outputs": [],
   "source": [
    "@log(logger)\n",
    "@resources(ait_output, path_helper, 'LSC_distribution_table',\"LC_distribution_table.csv\")\n",
    "def LSC_distributions_table(values, n_buckets=10, percentile=90,file_path: str=None):\n",
    "    U = np.percentile(values, percentile)\n",
    "    bucket_range = [(U*(i/n_buckets), U*((i+1)/n_buckets)) for i in range(n_buckets)]\n",
    "    covered_buckets = 0\n",
    "\n",
    "    covered_buckets = [np.sum((values > lower) & (values <= upper)) for lower, upper in bucket_range]\n",
    "    bucket_labels = [f\"b{i+1}\" for i in range(n_buckets)]\n",
    "    lsc_df= pd.DataFrame({\n",
    "        \"Bucket\":  bucket_labels,\n",
    "        \"Range\":[f\"{lower:.2f} - {upper:.2f}\" for lower, upper in bucket_range],\n",
    "        \"Count\":covered_buckets\n",
    "        })\n",
    "    print(\"\\nLikelihood-based Surprise Coverage Distribution(Table):\")\n",
    "    print(lsc_df)\n",
    "    lsc_df.to_csv(file_path)\n",
    "    return lsc_df"
   ]
  },
  {
   "cell_type": "code",
   "execution_count": 18,
   "metadata": {},
   "outputs": [],
   "source": [
    "@log(logger)\n",
    "@resources(ait_output, path_helper, 'DSC_distribution_Plot',\"DSC_distribution_Plot.png\")\n",
    "def DSC_distributions_hist(values, n_buckets=20, percentile=90,file_path: str=None):\n",
    "    U = np.percentile(values, percentile)\n",
    "    bucket_range = [(U*(i/n_buckets), U*((i+1)/n_buckets)) for i in range(n_buckets)]\n",
    "    covered_buckets = 0\n",
    "\n",
    "    covered_buckets = [np.sum((values > lower) & (values <= upper)) for lower, upper in bucket_range]\n",
    "    bucket_labels = [f\"b{i+1}\" for i in range(n_buckets)]\n",
    "    plt.figure(figsize=(10,6))\n",
    "    plt.bar(bucket_labels,covered_buckets,width=0.8,edgecolor='black')\n",
    "    plt.title(\"Distance-basedSurprise Coverage Distribution\")\n",
    "    plt.xlabel(\"Bucket\")\n",
    "    plt.xlabel(\"Num of data points\")\n",
    "    plt.xticks(rotation=45)\n",
    "    plt.grid(axis='y',linestyle='--',alpha=0.7)\n",
    "    plt.tight_layout()\n",
    "    plt.savefig(file_path)\n",
    "    plt.show()"
   ]
  },
  {
   "cell_type": "code",
   "execution_count": 19,
   "metadata": {},
   "outputs": [],
   "source": [
    "@log(logger)\n",
    "@resources(ait_output, path_helper, 'LSC_distribution_Plot',\"LSC_distribution_Plot.png\")\n",
    "def LSC_distributions_hist(values, n_buckets=10, percentile=95,file_path: str=None):\n",
    "    U = np.percentile(values, percentile)\n",
    "    bucket_range = [(U*(i/n_buckets), U*((i+1)/n_buckets)) for i in range(n_buckets)]\n",
    "    covered_buckets = 0\n",
    "\n",
    "    covered_buckets = [np.sum((values > lower) & (values <= upper)) for lower, upper in bucket_range]\n",
    "    bucket_labels = [f\"b{i+1}\" for i in range(n_buckets)]\n",
    "    plt.figure(figsize=(10,6))\n",
    "    plt.bar(bucket_labels,covered_buckets,width=0.8,edgecolor='black')\n",
    "    plt.title(\"Likelihood-basedSurprise Coverage Distribution\")\n",
    "    plt.xlabel(\"Bucket\")\n",
    "    plt.xlabel(\"Num of data points\")\n",
    "    plt.xticks(rotation=45)\n",
    "    plt.grid(axis='y',linestyle='--',alpha=0.7)\n",
    "    plt.tight_layout()\n",
    "    plt.savefig(file_path)\n",
    "    plt.show()"
   ]
  },
  {
   "cell_type": "markdown",
   "metadata": {
    "deletable": false,
    "editable": false
   },
   "source": [
    "### #9 Main Algorithms"
   ]
  },
  {
   "cell_type": "markdown",
   "metadata": {
    "deletable": false,
    "editable": false
   },
   "source": [
    "[required]"
   ]
  },
  {
   "cell_type": "code",
   "execution_count": 20,
   "metadata": {},
   "outputs": [],
   "source": [
    "@log(logger)\n",
    "@ait_main(ait_output, path_helper, is_ait_launch)\n",
    "def main() -> None:\n",
    "    train_h5_path = ait_input.get_inventory_path('train_dataset')\n",
    "    test_h5_path = ait_input.get_inventory_path('test_dataset')\n",
    "    channels = ait_input.get_method_param_value('dataset_channel')\n",
    "    train_input_dataset_name = ait_input.get_method_param_value('train_input_dataset_name')\n",
    "    train_label_dataset_name = ait_input.get_method_param_value('train_label_dataset_name')\n",
    "    test_input_dataset_name = ait_input.get_method_param_value('test_input_dataset_name')\n",
    "    test_label_dataset_name = ait_input.get_method_param_value('test_label_dataset_name')\n",
    "    \n",
    "    train_dataset = h5_dataset(train_h5_path,train_input_dataset_name,train_label_dataset_name,channels=channels)\n",
    "    test_dataset = h5_dataset(test_h5_path,test_input_dataset_name,test_label_dataset_name,channels=channels)\n",
    "    \n",
    "    train_loader = DataLoader(train_dataset, batch_size = 64, shuffle=False)\n",
    "    test_loader = DataLoader(test_dataset, batch_size = 64, shuffle=False)\n",
    "    \n",
    "    state_dict_file = ait_input.get_inventory_path('trained_model')\n",
    "    json_file = ait_input.get_inventory_path('trained_model_architecture')\n",
    "    state_dict = torch.load(state_dict_file)\n",
    "    try:\n",
    "        model = build_model(json_file)\n",
    "        model.load_state_dict(state_dict)\n",
    "    except Exception as e:\n",
    "        print(e)\n",
    "    model.eval()\n",
    "    layer_name = get_layer_name(model)\n",
    "    \n",
    "    train_activations, train_labels = get_activation_trace(model,train_loader,layer_name,channels)\n",
    "    test_activations, test_labels = get_activation_trace(model,test_loader,layer_name,channels)\n",
    "    \n",
    "    \n",
    "    analyzer = SC_Analyzer(model)\n",
    "    dsa_scores = analyzer.calculate_dsa(train_activations,train_labels,test_activations,test_labels)\n",
    "    bandwidth = ait_input.get_method_param_value('kde_bandwidth')\n",
    "    lsa_scores = analyzer.calculate_lsa(train_activations,test_activations,bandwidth=bandwidth)\n",
    "    \n",
    "    dsa_sc = analyzer.calculate_DSC(dsa_scores)\n",
    "    lsa_sc = analyzer.calculate_LSC(lsa_scores)\n",
    "    \n",
    "    \n",
    "    print(\"DSC: \",dsa_sc)\n",
    "    print(\"LSC: \",lsa_sc)\n",
    "    \n",
    "    dsc_table = DSC_distributions_table(dsa_scores)\n",
    "    DSC_distributions_hist(dsa_scores)\n",
    "    lsc_table = LSC_distributions_table(lsa_scores)\n",
    "    LSC_distributions_hist(lsa_scores)\n",
    "    train_dataset.close()\n",
    "    test_dataset.close()\n",
    "    "
   ]
  },
  {
   "cell_type": "markdown",
   "metadata": {
    "deletable": false,
    "editable": false
   },
   "source": [
    "### #10 Entry point"
   ]
  },
  {
   "cell_type": "markdown",
   "metadata": {
    "deletable": false,
    "editable": false
   },
   "source": [
    "[uneditable]"
   ]
  },
  {
   "cell_type": "code",
   "execution_count": 21,
   "metadata": {
    "deletable": false,
    "editable": false
   },
   "outputs": [
    {
     "name": "stderr",
     "output_type": "stream",
     "text": [
      "/tmp/ipykernel_29/2691477119.py:20: FutureWarning: You are using `torch.load` with `weights_only=False` (the current default value), which uses the default pickle module implicitly. It is possible to construct malicious pickle data which will execute arbitrary code during unpickling (See https://github.com/pytorch/pytorch/blob/main/SECURITY.md#untrusted-models for more details). In a future release, the default value for `weights_only` will be flipped to `True`. This limits the functions that could be executed during unpickling. Arbitrary objects will no longer be allowed to be loaded via this mode unless they are explicitly allowlisted by the user via `torch.serialization.add_safe_globals`. We recommend you start setting `weights_only=True` for any use case where you don't have full control of the loaded file. Please open an issue on GitHub for any issues related to this experimental feature.\n",
      "  state_dict = torch.load(state_dict_file)\n"
     ]
    },
    {
     "name": "stdout",
     "output_type": "stream",
     "text": [
      "DSC:  0.9\n",
      "LSC:  1.0\n",
      "\n",
      "Distance-based Surprise Coverage Distribution(Table):\n",
      "   Bucket        Range  Count\n",
      "0      b1  0.00 - 0.03      0\n",
      "1      b2  0.03 - 0.07      0\n",
      "2      b3  0.07 - 0.10      1\n",
      "3      b4  0.10 - 0.13      4\n",
      "4      b5  0.13 - 0.17     12\n",
      "5      b6  0.17 - 0.20     35\n",
      "6      b7  0.20 - 0.23     38\n",
      "7      b8  0.23 - 0.26     43\n",
      "8      b9  0.26 - 0.30     57\n",
      "9     b10  0.30 - 0.33     85\n",
      "10    b11  0.33 - 0.36     91\n",
      "11    b12  0.36 - 0.40     97\n",
      "12    b13  0.40 - 0.43    103\n",
      "13    b14  0.43 - 0.46     78\n",
      "14    b15  0.46 - 0.50     71\n",
      "15    b16  0.50 - 0.53     59\n",
      "16    b17  0.53 - 0.56     34\n",
      "17    b18  0.56 - 0.60     40\n",
      "18    b19  0.60 - 0.63     27\n",
      "19    b20  0.63 - 0.66     25\n"
     ]
    },
    {
     "data": {
      "image/png": "[encoded data removed]",
      "text/plain": [
       "<Figure size 1000x600 with 1 Axes>"
      ]
     },
     "metadata": {},
     "output_type": "display_data"
    },
    {
     "name": "stdout",
     "output_type": "stream",
     "text": [
      "\n",
      "Likelihood-based Surprise Coverage Distribution(Table):\n",
      "  Bucket            Range  Count\n",
      "0     b1     0.00 - 66.94    455\n",
      "1     b2   66.94 - 133.88     44\n",
      "2     b3  133.88 - 200.82     30\n",
      "3     b4  200.82 - 267.76     67\n",
      "4     b5  267.76 - 334.69     59\n",
      "5     b6  334.69 - 401.63     65\n",
      "6     b7  401.63 - 468.57     58\n",
      "7     b8  468.57 - 535.51     48\n",
      "8     b9  535.51 - 602.45     35\n",
      "9    b10  602.45 - 669.39     39\n"
     ]
    },
    {
     "data": {
      "image/png": "[encoded data removed]",
      "text/plain": [
       "<Figure size 1000x600 with 1 Axes>"
      ]
     },
     "metadata": {},
     "output_type": "display_data"
    }
   ],
   "source": [
    "if __name__ == '__main__':\n",
    "    main()"
   ]
  },
  {
   "cell_type": "markdown",
   "metadata": {
    "deletable": false,
    "editable": false
   },
   "source": [
    "### #11 License"
   ]
  },
  {
   "cell_type": "markdown",
   "metadata": {
    "deletable": false,
    "editable": false
   },
   "source": [
    "[required]"
   ]
  },
  {
   "cell_type": "code",
   "execution_count": 22,
   "metadata": {},
   "outputs": [],
   "source": [
    "## sample ##\n",
    "ait_owner='AIST'\n",
    "ait_creation_year='2024'"
   ]
  },
  {
   "cell_type": "markdown",
   "metadata": {
    "deletable": false,
    "editable": false
   },
   "source": [
    "### #12 Deployment"
   ]
  },
  {
   "cell_type": "markdown",
   "metadata": {
    "deletable": false,
    "editable": false
   },
   "source": [
    "[uneditable] "
   ]
  },
  {
   "cell_type": "code",
   "execution_count": 23,
   "metadata": {
    "deletable": false,
    "editable": false
   },
   "outputs": [],
   "source": [
    "if not is_ait_launch:\n",
    "    from ait_sdk.deploy import prepare_deploy\n",
    "    from ait_sdk.license.license_generator import LicenseGenerator\n",
    "    \n",
    "    current_dir = %pwd\n",
    "    prepare_deploy(ait_sdk_name, current_dir, requirements_path)\n",
    "    \n",
    "    # output License.txt\n",
    "    license_generator = LicenseGenerator()\n",
    "    license_generator.write('../top_dir/LICENSE.txt', ait_creation_year, ait_owner)\n"
   ]
  },
  {
   "cell_type": "code",
   "execution_count": null,
   "metadata": {},
   "outputs": [],
   "source": []
  }
 ],
 "metadata": {
  "celltoolbar": "Edit Metadata",
  "kernelspec": {
   "display_name": "Python 3 (ipykernel)",
   "language": "python",
   "name": "python3"
  },
  "language_info": {
   "codemirror_mode": {
    "name": "ipython",
    "version": 3
   },
   "file_extension": ".py",
   "mimetype": "text/x-python",
   "name": "python",
   "nbconvert_exporter": "python",
   "pygments_lexer": "ipython3",
   "version": "3.9.13"
  },
  "vscode": {
   "interpreter": {
    "hash": "cc00c6a56d87bd8bd7773e730c60ddfdb8804da6b7537df09499efbcf81630f7"
   }
  }
 },
 "nbformat": 4,
 "nbformat_minor": 4
}
