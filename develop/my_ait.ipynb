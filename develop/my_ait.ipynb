{
 "cells": [
  {
   "cell_type": "markdown",
   "metadata": {
    "deletable": false,
    "editable": false
   },
   "source": [
    "# AIT Development notebook"
   ]
  },
  {
   "cell_type": "markdown",
   "metadata": {
    "deletable": false,
    "editable": false
   },
   "source": [
    "## notebook of structure"
   ]
  },
  {
   "cell_type": "markdown",
   "metadata": {
    "deletable": false,
    "editable": false
   },
   "source": [
    "| #  | Name                                               | cells | for_dev | edit               | description                                                                |\n",
    "|----|----------------------------------------------------|-------|---------|--------------------|----------------------------------------------------------------------------|\n",
    "| 1  | [Environment detection](##1-Environment-detection) | 1     | No      | uneditable         | detect whether the notebook are invoked for packaging or in production     |\n",
    "| 2  | [Preparing AIT SDK](##2-Preparing-AIT-SDK)         | 1     | Yes     | uneditable         | download and install AIT SDK                                               |\n",
    "| 3  | [Dependency Management](##3-Dependency-Management) | 3     | Yes     | required(cell #2)  | generate requirements.txt for Docker container                             |\n",
    "| 4  | [Importing Libraries](##4-Importing-Libraries)     | 2     | Yes     | required(cell #1)  | import required libraries                                                  |\n",
    "| 5  | [Manifest Generation](##5-Manifest-Generation)     | 1     | Yes     | required           | generate AIT Manifest                                                      |\n",
    "| 6  | [Prepare for the Input](##6-Prepare-for-the-Input) | 1     | Yes     | required           | generate AIT Input JSON (inventory mapper)                                 |\n",
    "| 7  | [Initialization](##7-Initialization)               | 1     | No      | uneditable         | initialization for AIT execution                                           |\n",
    "| 8  | [Function definitions](##8-Function-definitions)   | N     | No      | required           | define functions invoked from Main area.<br> also define output functions. |\n",
    "| 9  | [Main Algorithms](##9-Main-Algorithms)             | 1     | No      | required           | area for main algorithms of an AIT                                         |\n",
    "| 10 | [Entry point](##10-Entry-point)                    | 1     | No      | uneditable         | an entry point where Qunomon invoke this AIT from here                     |\n",
    "| 11 | [License](##11-License)                            | 1     | Yes     | required           | generate license information                                               |\n",
    "| 12 | [Deployment](##12-Deployment)                      | 1     | Yes     | uneditable         | convert this notebook to the python file for packaging purpose             |"
   ]
  },
  {
   "cell_type": "markdown",
   "metadata": {
    "deletable": false,
    "editable": false
   },
   "source": [
    "## notebook template revision history"
   ]
  },
  {
   "cell_type": "markdown",
   "metadata": {
    "deletable": false,
    "editable": false
   },
   "source": [
    "1.0.1 2020/10/21\n",
    "\n",
    "* add revision history\n",
    "* separate `create requirements and pip install` editable and noeditable\n",
    "* separate `import` editable and noeditable\n",
    "\n",
    "1.0.0 2020/10/12\n",
    "\n",
    "* new cerarion"
   ]
  },
  {
   "cell_type": "markdown",
   "metadata": {
    "deletable": false,
    "editable": false
   },
   "source": [
    "## body"
   ]
  },
  {
   "cell_type": "markdown",
   "metadata": {
    "deletable": false,
    "editable": false
   },
   "source": [
    "### #1 Environment detection"
   ]
  },
  {
   "cell_type": "markdown",
   "metadata": {
    "deletable": false,
    "editable": false
   },
   "source": [
    "[uneditable]"
   ]
  },
  {
   "cell_type": "code",
   "execution_count": 1,
   "metadata": {
    "deletable": false,
    "editable": false
   },
   "outputs": [],
   "source": [
    "# Determine whether to start AIT or jupyter by startup argument\n",
    "import sys\n",
    "is_ait_launch = (len(sys.argv) == 2)"
   ]
  },
  {
   "cell_type": "markdown",
   "metadata": {
    "deletable": false,
    "editable": false
   },
   "source": [
    "### #2 Preparing AIT SDK"
   ]
  },
  {
   "cell_type": "markdown",
   "metadata": {
    "deletable": false,
    "editable": false
   },
   "source": [
    "[uneditable]"
   ]
  },
  {
   "cell_type": "code",
   "execution_count": 2,
   "metadata": {
    "deletable": false,
    "editable": false
   },
   "outputs": [
    {
     "name": "stdout",
     "output_type": "stream",
     "text": [
      "\u001b[33mWARNING: Running pip as the 'root' user can result in broken permissions and conflicting behaviour with the system package manager, possibly rendering your system unusable. It is recommended to use a virtual environment instead: https://pip.pypa.io/warnings/venv. Use the --root-user-action option if you know what you are doing and want to suppress this warning.\u001b[0m\u001b[33m\n",
      "\u001b[0m\u001b[33mWARNING: Running pip as the 'root' user can result in broken permissions and conflicting behaviour with the system package manager, possibly rendering your system unusable. It is recommended to use a virtual environment instead: https://pip.pypa.io/warnings/venv. Use the --root-user-action option if you know what you are doing and want to suppress this warning.\u001b[0m\u001b[33m\n",
      "\u001b[0m"
     ]
    }
   ],
   "source": [
    "if not is_ait_launch:\n",
    "    # get ait-sdk file name\n",
    "    from pathlib import Path\n",
    "    from glob import glob\n",
    "    import re\n",
    "    import os\n",
    "\n",
    "    current_dir = %pwd\n",
    "\n",
    "    ait_sdk_path = \"./ait_sdk-*-py3-none-any.whl\"\n",
    "    ait_sdk_list = glob(ait_sdk_path)\n",
    "    ait_sdk_name = os.path.basename(ait_sdk_list[-1])\n",
    "\n",
    "    # install ait-sdk\n",
    "    !pip install -q --upgrade pip\n",
    "    !pip install -q --no-deps --force-reinstall ./$ait_sdk_name"
   ]
  },
  {
   "cell_type": "markdown",
   "metadata": {
    "deletable": false,
    "editable": false
   },
   "source": [
    "### #3 Dependency Management"
   ]
  },
  {
   "cell_type": "markdown",
   "metadata": {
    "deletable": false,
    "editable": false
   },
   "source": [
    "#### #3-1 [uneditable]"
   ]
  },
  {
   "cell_type": "code",
   "execution_count": 3,
   "metadata": {
    "deletable": false,
    "editable": false
   },
   "outputs": [],
   "source": [
    "if not is_ait_launch:\n",
    "    from ait_sdk.common.files.ait_requirements_generator import AITRequirementsGenerator\n",
    "    requirements_generator = AITRequirementsGenerator()"
   ]
  },
  {
   "cell_type": "markdown",
   "metadata": {
    "deletable": false,
    "editable": false
   },
   "source": [
    "#### #3-2 [required]"
   ]
  },
  {
   "cell_type": "code",
   "execution_count": 4,
   "metadata": {},
   "outputs": [],
   "source": [
    "if not is_ait_launch:\n",
    "    requirements_generator.add_package('pandas', '2.2.3')\n",
    "    requirements_generator.add_package('numpy','2.2.4')\n",
    "    requirements_generator.add_package('h5py','3.13.0')\n",
    "    requirements_generator.add_package('torch','2.6.0')\n",
    "    requirements_generator.add_package('matplotlib','3.10.1')\n",
    "    requirements_generator.add_package('scikit-learn','1.6.1')"
   ]
  },
  {
   "cell_type": "markdown",
   "metadata": {
    "deletable": false,
    "editable": false
   },
   "source": [
    "#### #3-3 [uneditable]"
   ]
  },
  {
   "cell_type": "code",
   "execution_count": 5,
   "metadata": {
    "deletable": false,
    "editable": false
   },
   "outputs": [
    {
     "name": "stdout",
     "output_type": "stream",
     "text": [
      "\u001b[33mWARNING: Running pip as the 'root' user can result in broken permissions and conflicting behaviour with the system package manager, possibly rendering your system unusable. It is recommended to use a virtual environment instead: https://pip.pypa.io/warnings/venv. Use the --root-user-action option if you know what you are doing and want to suppress this warning.\u001b[0m\u001b[33m\n",
      "\u001b[0m"
     ]
    }
   ],
   "source": [
    "if not is_ait_launch:\n",
    "    requirements_generator.add_package(f'./{ait_sdk_name}')\n",
    "    requirements_path = requirements_generator.create_requirements(current_dir)\n",
    "\n",
    "    !pip install -q -r $requirements_path "
   ]
  },
  {
   "cell_type": "markdown",
   "metadata": {
    "deletable": false,
    "editable": false
   },
   "source": [
    "### #4 Importing Libraries"
   ]
  },
  {
   "cell_type": "markdown",
   "metadata": {
    "deletable": false,
    "editable": false
   },
   "source": [
    "#### #4-1 [required]"
   ]
  },
  {
   "cell_type": "code",
   "execution_count": 6,
   "metadata": {},
   "outputs": [],
   "source": [
    "# import if you need modules cell\n",
    "\n",
    "import pandas as pd\n",
    "import matplotlib.pyplot as plt\n",
    "import numpy as np\n",
    "from sklearn.neighbors import KernelDensity\n",
    "import h5py\n",
    "import torch\n",
    "import torch.nn as nn\n",
    "from torch.utils.data import Dataset, DataLoader\n"
   ]
  },
  {
   "cell_type": "markdown",
   "metadata": {
    "deletable": false,
    "editable": false
   },
   "source": [
    "#### #4-2 [uneditable]"
   ]
  },
  {
   "cell_type": "code",
   "execution_count": 7,
   "metadata": {
    "deletable": false,
    "editable": false
   },
   "outputs": [],
   "source": [
    "# must use modules\n",
    "from os import path\n",
    "import shutil  # do not remove\n",
    "from ait_sdk.common.files.ait_input import AITInput  # do not remove\n",
    "from ait_sdk.common.files.ait_output import AITOutput  # do not remove\n",
    "from ait_sdk.common.files.ait_manifest import AITManifest  # do not remove\n",
    "from ait_sdk.develop.ait_path_helper import AITPathHelper  # do not remove\n",
    "from ait_sdk.utils.logging import get_logger, log, get_log_path  # do not remove\n",
    "from ait_sdk.develop.annotation import measures, resources, downloads, ait_main  # do not remove\n",
    "# must use modules"
   ]
  },
  {
   "cell_type": "markdown",
   "metadata": {
    "deletable": false,
    "editable": false
   },
   "source": [
    "### #5 Manifest Generation"
   ]
  },
  {
   "cell_type": "markdown",
   "metadata": {
    "deletable": false,
    "editable": false
   },
   "source": [
    "[required]"
   ]
  },
  {
   "cell_type": "code",
   "execution_count": 8,
   "metadata": {},
   "outputs": [],
   "source": [
    "if not is_ait_launch:\n",
    "    from ait_sdk.common.files.ait_manifest_generator import AITManifestGenerator\n",
    "    manifest_genenerator = AITManifestGenerator(current_dir)\n",
    "    manifest_genenerator.set_ait_name('alyz_dataset_surprise_coverage')\n",
    "    manifest_genenerator.set_ait_description('モデルがテストデータに対して意外性のある入力をどれだけカバーしているかを測定することでデータセットの多様性を評価する。\\nこれにより、データセットが異なる特徴を豊富に含んでいるかを把握することができる。分布に基づいた評価と空間的な距離に基づいた評価の2つの観点からデータセットの多様性を評価することでより安定した評価ができる。')\n",
    "    manifest_genenerator.set_ait_source_repository('https://github.com/aistairc/Qunomon_AIT_alyz_dataset_surprise_coverage')\n",
    "    manifest_genenerator.set_ait_version('1.2')\n",
    "    manifest_genenerator.add_ait_licenses('Apache License Version 2.0')\n",
    "    manifest_genenerator.add_ait_keywords('Surprise Coverage')\n",
    "    manifest_genenerator.add_ait_keywords('DSA')\n",
    "    manifest_genenerator.add_ait_keywords('LSA')\n",
    "    manifest_genenerator.add_ait_keywords('image')\n",
    "    manifest_genenerator.set_ait_quality('https://ait-hub.pj.aist.go.jp/ait-hub/api/0.0.1/qualityDimensions/機械学習品質マネジメントガイドライン第三版/B-1データセットの被覆性')\n",
    "    #### Inventories\n",
    "    inventory_requirement_dataset = manifest_genenerator.format_ait_inventory_requirement(format_=['h5'])\n",
    "    manifest_genenerator.add_ait_inventories(name='train_dataset', \n",
    "                                             type_='dataset', \n",
    "                                             description='HDF5形式の学習用データセット。内部は2つのHDF5ファイルを用意する(ファイル名は任意)\\n(1)モデルに入力される多次元配列を含むデータセット(データセット(1)の要素数はmodelの入力層の要素数と一致)\\n(2)データの各サンプルの正解ラベル（クラスのインデックス値）を含むデータセット(データセット(2)の要素数はmodelの出力層の要素数と一致))\\n\\nファイル構造:\\n sample.h5\\n   ├─(1)入力データセット\\n   └─(2)ラベルデータセット\\n', \n",
    "                                             requirement= inventory_requirement_dataset)\n",
    "    manifest_genenerator.add_ait_inventories(name='test_dataset', \n",
    "                                             type_='dataset', \n",
    "                                             description='HDF5形式のテスト用データセット。内部は2つのHDF5ファイルを用意する(ファイル名は任意)\\n(1)モデルに入力される多次元配列を含むデータセット(データセット(1)の要素数はmodelの入力層の要素数と一致)\\n(2)データの各サンプルの正解ラベル（クラスのインデックス値）を含むデータセット(データセット(2)の要素数はmodelの出力層の要素数と一致))\\n\\nファイル構造:\\n sample.h5\\n   ├─(1)入力データセット\\n   └─(2)ラベルデータセット\\n', \n",
    "                                             requirement= inventory_requirement_dataset)\n",
    "    inventory_requirement_trained_model = manifest_genenerator.format_ait_inventory_requirement(format_=['pth'])\n",
    "    manifest_genenerator.add_ait_inventories(name='trained_model', \n",
    "                                              type_='model', \n",
    "                                              description='torch.jit.save関数を使用しTorchScript形式で保存されたモデルデータ。入力と出力の要素数はtest_dataset inventoryと一致させる', \n",
    "                                              requirement=inventory_requirement_trained_model)\n",
    "    #### Parameters\n",
    "    manifest_genenerator.add_ait_parameters(name='train_input_dataset_name', \n",
    "                                            type_='str', \n",
    "                                            description='train_dataset inventoryで説明されているデータセット(1)の名前', \n",
    "                                            default_val='x_train')\n",
    "    manifest_genenerator.add_ait_parameters(name='train_label_dataset_name', \n",
    "                                            type_='str', \n",
    "                                            description='train_dataset inventoryで説明されているデータセット(2)の名前', \n",
    "                                            default_val='y_train')\n",
    "    manifest_genenerator.add_ait_parameters(name='test_input_dataset_name', \n",
    "                                            type_='str', \n",
    "                                            description='test_dataset inventoryで説明されているデータセット(1)の名前', \n",
    "                                            default_val='x_test')\n",
    "    manifest_genenerator.add_ait_parameters(name='test_label_dataset_name', \n",
    "                                            type_='str', \n",
    "                                            description='test_dataset inventoryで説明されているデータセット(2)の名前', \n",
    "                                            default_val='y_test')\n",
    "    manifest_genenerator.add_ait_parameters(name='kde_bandwidth',\n",
    "                                            type_='float',\n",
    "                                            default_val='0.5',\n",
    "                                            min_value='0.1',\n",
    "                                            max_value='1',\n",
    "                                            description='LSAを計算するときのカーネル密度推定に指定するバンド幅')\n",
    "    manifest_genenerator.add_ait_parameters(name='dataset_channel',\n",
    "                                          type_='int',\n",
    "                                          default_val='1',\n",
    "                                          description='train_dataset inventoryで説明されているデータセット(1)とtest_dataset inventoryで説明されているデータセット(1)のチャネル数')\n",
    "    #### Measures\n",
    "    manifest_genenerator.add_ait_measures(name='Likelihood-based_Surprise_Coverage',\n",
    "                                          type_='float',\n",
    "                                          structure='single',\n",
    "                                          description='テストデータセットのLikelihood-based Surprise Adequacyを使ったSurprise Coverage。値が大きいほどデータのカバー範囲が広い。')\n",
    "    manifest_genenerator.add_ait_measures(name='Distance-based_Surprise_Coverage',\n",
    "                                          type_='float',\n",
    "                                          structure='single',\n",
    "                                          description='テストデータセットのDistance-based Surprise Adequacyを使ったSurprise Coverage。値が大きいほどデータのカバー範囲が広い。')\n",
    "    #### Resources\n",
    "    manifest_genenerator.add_ait_resources(name='DSC_distribution_Plot',\n",
    "                                         type_='picture', \n",
    "                                         description='DSCでのデータの意外性のカバレッジ分布')\n",
    "    manifest_genenerator.add_ait_resources(name='LSC_distribution_Plot',\n",
    "                                         type_='picture', \n",
    "                                         description='LSCでのデータの意外性のカバレッジ分布')\n",
    "    manifest_genenerator.add_ait_resources(name='DSC_distribution_table', \n",
    "                                         type_='table', \n",
    "                                         description='DSCの分布表')\n",
    "    manifest_genenerator.add_ait_resources(name='LSC_distribution_table', \n",
    "                                         type_='table', \n",
    "                                         description='LSCの分布表')\n",
    "    #### Downloads\n",
    "    manifest_genenerator.add_ait_downloads(name='Log', \n",
    "                                           description='AIT実行ログ')\n",
    "    manifest_path = manifest_genenerator.write()"
   ]
  },
  {
   "cell_type": "markdown",
   "metadata": {
    "deletable": false,
    "editable": false
   },
   "source": [
    "### #6 Prepare for the Input"
   ]
  },
  {
   "cell_type": "markdown",
   "metadata": {
    "deletable": false,
    "editable": false
   },
   "source": [
    "[required]"
   ]
  },
  {
   "cell_type": "code",
   "execution_count": 9,
   "metadata": {},
   "outputs": [],
   "source": [
    "if not is_ait_launch:\n",
    "    from ait_sdk.common.files.ait_input_generator import AITInputGenerator\n",
    "    input_generator = AITInputGenerator(manifest_path)\n",
    "    input_generator.add_ait_inventories(name='train_dataset',\n",
    "                                        value='mnist_data/aug_train.h5')\n",
    "    input_generator.add_ait_inventories(name='test_dataset',\n",
    "                                        value='mnist_data/aug_test.h5')\n",
    "    input_generator.add_ait_inventories(name='trained_model',\n",
    "                                        value='models/LeNet5_model.pth')\n",
    "    input_generator.set_ait_params(\"train_input_dataset_name\", \"train_image\")\n",
    "    input_generator.set_ait_params(\"train_label_dataset_name\", \"train_label\")\n",
    "    input_generator.set_ait_params(\"test_input_dataset_name\", \"test_image\")\n",
    "    input_generator.set_ait_params(\"test_label_dataset_name\", \"test_label\")\n",
    "    input_generator.write()"
   ]
  },
  {
   "cell_type": "markdown",
   "metadata": {
    "deletable": false,
    "editable": false
   },
   "source": [
    "### #7 Initialization"
   ]
  },
  {
   "cell_type": "markdown",
   "metadata": {
    "deletable": false,
    "editable": false
   },
   "source": [
    "[uneditable]"
   ]
  },
  {
   "cell_type": "code",
   "execution_count": 10,
   "metadata": {
    "deletable": false,
    "editable": false
   },
   "outputs": [],
   "source": [
    "logger = get_logger()\n",
    "\n",
    "ait_manifest = AITManifest()\n",
    "ait_input = AITInput(ait_manifest)\n",
    "ait_output = AITOutput(ait_manifest)\n",
    "\n",
    "if is_ait_launch:\n",
    "    # launch from AIT\n",
    "    current_dir = path.dirname(path.abspath(__file__))\n",
    "    path_helper = AITPathHelper(argv=sys.argv, ait_input=ait_input, ait_manifest=ait_manifest, entry_point_dir=current_dir)\n",
    "else:\n",
    "    # launch from jupyter notebook\n",
    "    # ait.input.json make in input_dir\n",
    "    input_dir = '/usr/local/qai/mnt/ip/job_args/1/1'\n",
    "    current_dir = %pwd\n",
    "    path_helper = AITPathHelper(argv=['', input_dir], ait_input=ait_input, ait_manifest=ait_manifest, entry_point_dir=current_dir)\n",
    "\n",
    "ait_input.read_json(path_helper.get_input_file_path())\n",
    "ait_manifest.read_json(path_helper.get_manifest_file_path())\n",
    "\n",
    "### do not edit cell"
   ]
  },
  {
   "cell_type": "markdown",
   "metadata": {
    "deletable": false,
    "editable": false
   },
   "source": [
    "### #8 Function definitions"
   ]
  },
  {
   "cell_type": "markdown",
   "metadata": {
    "deletable": false,
    "editable": false
   },
   "source": [
    "[required]"
   ]
  },
  {
   "cell_type": "code",
   "execution_count": 11,
   "metadata": {},
   "outputs": [],
   "source": [
    "@log(logger)\n",
    "def get_layer_name(model):\n",
    "    layer_name = None\n",
    "\n",
    "    for name ,layer in model.named_children():\n",
    "        if hasattr(layer,\"original_name\") and layer.original_name ==\"Conv2d\":\n",
    "            layer_name = name\n",
    "\n",
    "    if layer_name is None:\n",
    "        raise ValueError(\"Conv2d does not exist.\")\n",
    "\n",
    "    return layer_name"
   ]
  },
  {
   "cell_type": "code",
   "execution_count": 12,
   "metadata": {},
   "outputs": [],
   "source": [
    "#@log(logger)\n",
    "class SC_Analyzer:\n",
    "    def __init__(self,model):\n",
    "        self.model = model\n",
    "\n",
    "    def calculate_dsa(self,train_activations,train_labels,test_activations,test_labels):\n",
    "        dsa_values=[]\n",
    "        for Num,test_activations in enumerate(test_activations):\n",
    "            test_label = test_labels[Num]\n",
    "            \n",
    "            same_class_activations = train_activations[train_labels == test_label]\n",
    "            diff_class_activations = train_activations[train_labels != test_label]\n",
    "            \n",
    "            same_class_distances = np.linalg.norm(same_class_activations - test_activations, axis=1)\n",
    "            diff_class_distances = np.linalg.norm(diff_class_activations - test_activations, axis=1)\n",
    "            \n",
    "            min_same_class_distance = np.min(same_class_distances)\n",
    "            min_diff_class_distance = np.min(diff_class_distances)\n",
    "            \n",
    "            dsa_value = min_same_class_distance / min_diff_class_distance\n",
    "            dsa_values.append(dsa_value)\n",
    "            \n",
    "        return np.array(dsa_values)\n",
    "    \n",
    "    def calculate_lsa(self,train_activations,test_activations,bandwidth):\n",
    "        kde=KernelDensity(kernel='gaussian',bandwidth=bandwidth).fit(train_activations)\n",
    "        log_density = kde.score_samples(test_activations)\n",
    "        lsa_values = -log_density\n",
    "        return lsa_values\n",
    "    \n",
    "    @measures(ait_output, 'Distance-based_Surprise_Coverage')\n",
    "    def calculate_DSC(self, values, n_buckets=20, percentile=90):\n",
    "        U = np.percentile(values, percentile)\n",
    "        bucket_range = [(U*(i/n_buckets), U*((i+1)/n_buckets)) for i in range(n_buckets)]\n",
    "        covered_buckets = 0\n",
    "        for lower, upper in bucket_range:\n",
    "            if np.any((values > lower) & (values <= upper)):\n",
    "                covered_buckets +=1\n",
    "        DSC_value = covered_buckets / n_buckets\n",
    "        return DSC_value\n",
    "    \n",
    "    @measures(ait_output, 'Likelihood-based_Surprise_Coverage')\n",
    "    def calculate_LSC(self, values, n_buckets=10, percentile=95):\n",
    "        U = np.percentile(values, percentile)\n",
    "        bucket_range = [(U*(i/n_buckets), U*((i+1)/n_buckets)) for i in range(n_buckets)]\n",
    "        covered_buckets = 0\n",
    "        for lower, upper in bucket_range:\n",
    "            if np.any((values > lower) & (values <= upper)):\n",
    "                covered_buckets +=1\n",
    "        LSC_value = covered_buckets / n_buckets\n",
    "        return LSC_value"
   ]
  },
  {
   "cell_type": "code",
   "execution_count": 13,
   "metadata": {},
   "outputs": [],
   "source": [
    "#@log(logger)\n",
    "class Activation_Tracker:\n",
    "    def __init__(self,model,layer_name):\n",
    "        self.model=model\n",
    "        self.layer_name= layer_name\n",
    "        self.activations =None\n",
    "    def forward_tracking(self,x):\n",
    "        self.activations =None\n",
    "        for name,module in self.model.named_children():\n",
    "            x= module(x)\n",
    "            if name ==  self.layer_name:\n",
    "                self.activations = x.clone().detach()\n",
    "                break\n",
    "        return x\n",
    "\n",
    "\n",
    "    def get_activations(self):\n",
    "        if self.activations is None:\n",
    "            raise RuntimeError(\"no activation recorded\")\n",
    "        return self.activations"
   ]
  },
  {
   "cell_type": "code",
   "execution_count": 14,
   "metadata": {},
   "outputs": [],
   "source": [
    "@log(logger)\n",
    "def get_activation_trace( data_loader,tracker, channels):\n",
    "    activations, labels, indices = [],[],[]\n",
    "    idx = 0\n",
    "\n",
    "\n",
    "    for images ,labels_batch in data_loader:\n",
    "        batch_size = images.size(0)\n",
    "        if channels ==3 and images.shape[1]==1:\n",
    "            images = images.repeat(1,3,1,1)\n",
    "\n",
    "        _ = tracker.forward_tracking(images)\n",
    "\n",
    "        activations.append(tracker.get_activations().cpu().numpy().reshape(batch_size,-1))\n",
    "        labels.append(labels_batch.numpy())\n",
    "        indices.extend(range(idx,idx+batch_size))\n",
    "        \n",
    "        idx += batch_size\n",
    "    activations = np.concatenate(activations,axis=0)\n",
    "    labels = np.concatenate(labels,axis=0)\n",
    "    \n",
    "    return activations, labels, indices"
   ]
  },
  {
   "cell_type": "code",
   "execution_count": 15,
   "metadata": {},
   "outputs": [],
   "source": [
    "#@log(logger)\n",
    "class h5_dataset(Dataset):\n",
    "    def __init__(self,h5_file_path,x_name,y_name, channels=1):\n",
    "        self.h5_file = h5py.File(h5_file_path,'r')\n",
    "        self.images = self.h5_file[x_name]\n",
    "        self.labels = self.h5_file[y_name]\n",
    "        self.channels = channels\n",
    "        \n",
    "    def __len__(self):\n",
    "        return len(self.labels)\n",
    "    \n",
    "    def __getitem__(self,idx):\n",
    "        image = torch.tensor(self.images[idx],dtype=torch.float32)\n",
    "        label = torch.tensor(self.labels[idx],dtype=torch.long)\n",
    "        if self.channels == 3 and images.shape[0] ==1:\n",
    "            images = images.repeat(3,1,1)\n",
    "        \n",
    "        return image, label\n",
    "    \n",
    "    def close(self):\n",
    "        self.h5_file.close()"
   ]
  },
  {
   "cell_type": "code",
   "execution_count": 16,
   "metadata": {},
   "outputs": [],
   "source": [
    "@log(logger)\n",
    "@resources(ait_output, path_helper, 'DSC_distribution_table',\"DSC_distribution_table.csv\")\n",
    "def DSC_distributions_table(values, indices,n_buckets=20, percentile=90,file_path: str=None):\n",
    "    U = np.percentile(values, percentile)\n",
    "    bucket_range = [(U*(i/n_buckets), U*((i+1)/n_buckets)) for i in range(n_buckets)]\n",
    "    bucket_indices = []\n",
    "    bucket_counts = []\n",
    "    \n",
    "    for lower, upper in bucket_range:\n",
    "        bucket_mask = (values > lower) & (values <= upper)\n",
    "        bucket_counts.append(np.sum(bucket_mask))\n",
    "        bucket_indices.append(list(np.array(indices)[bucket_mask]))\n",
    "    \n",
    "    bucket_labels = [f\"b{i+1}\" for i in range(n_buckets)]\n",
    "    \n",
    "    \n",
    "    \n",
    "    dsc_df= pd.DataFrame({\n",
    "        \"Bucket\":  bucket_labels,\n",
    "        \"Range\":[f\"{lower:.2f} - {upper:.2f}\" for lower, upper in bucket_range],\n",
    "        \"Count\":bucket_counts,\n",
    "        \"Indices\": bucket_indices\n",
    "        })\n",
    "    print(\"\\nDistance-based Surprise Coverage Distribution(Table):\")\n",
    "    print(dsc_df)\n",
    "    dsc_df.to_csv(file_path,index=False)\n",
    "    return dsc_df"
   ]
  },
  {
   "cell_type": "code",
   "execution_count": 17,
   "metadata": {},
   "outputs": [],
   "source": [
    "@log(logger)\n",
    "@resources(ait_output, path_helper, 'LSC_distribution_table',\"LSC_distribution_table.csv\")\n",
    "def LSC_distributions_table(values, indices, n_buckets=10, percentile=90,file_path: str=None):\n",
    "    U = np.percentile(values, percentile)\n",
    "    bucket_range = [(U*(i/n_buckets), U*((i+1)/n_buckets)) for i in range(n_buckets)]\n",
    "    bucket_indices = []\n",
    "    bucket_counts = []\n",
    "    \n",
    "    for lower, upper in bucket_range:\n",
    "        bucket_mask = (values > lower) & (values <= upper)\n",
    "        bucket_counts.append(np.sum(bucket_mask))\n",
    "        bucket_indices.append(list(np.array(indices)[bucket_mask]))\n",
    "    \n",
    "    bucket_labels = [f\"b{i+1}\" for i in range(n_buckets)]\n",
    "    \n",
    "    \n",
    "    \n",
    "    lsc_df= pd.DataFrame({\n",
    "        \"Bucket\":  bucket_labels,\n",
    "        \"Range\":[f\"{lower:.2f} - {upper:.2f}\" for lower, upper in bucket_range],\n",
    "        \"Count\":bucket_counts,\n",
    "        \"Indices\": bucket_indices\n",
    "        })\n",
    "    print(\"\\nLikelihood-based Surprise Coverage Distribution(Table):\")\n",
    "    print(lsc_df)\n",
    "    lsc_df.to_csv(file_path,index=False)\n",
    "    return lsc_df"
   ]
  },
  {
   "cell_type": "code",
   "execution_count": 18,
   "metadata": {},
   "outputs": [],
   "source": [
    "@log(logger)\n",
    "@resources(ait_output, path_helper, 'DSC_distribution_Plot',\"DSC_distribution_Plot.png\")\n",
    "def DSC_distributions_hist(values, n_buckets=20, percentile=90,file_path: str=None):\n",
    "    U = np.percentile(values, percentile)\n",
    "    bucket_range = [(U*(i/n_buckets), U*((i+1)/n_buckets)) for i in range(n_buckets)]\n",
    "    covered_buckets = 0\n",
    "\n",
    "    covered_buckets = [np.sum((values > lower) & (values <= upper)) for lower, upper in bucket_range]\n",
    "    bucket_labels = [f\"b{i+1}\" for i in range(n_buckets)]\n",
    "    plt.figure(figsize=(10,6))\n",
    "    plt.bar(bucket_labels,covered_buckets,width=0.8,edgecolor='black')\n",
    "    plt.title(\"Distance-basedSurprise Coverage Distribution\")\n",
    "    plt.xlabel(\"Bucket\")\n",
    "    plt.xlabel(\"Num of data points\")\n",
    "    plt.xticks(rotation=45)\n",
    "    plt.grid(axis='y',linestyle='--',alpha=0.7)\n",
    "    plt.tight_layout()\n",
    "    plt.savefig(file_path)\n",
    "    plt.show()"
   ]
  },
  {
   "cell_type": "code",
   "execution_count": 19,
   "metadata": {},
   "outputs": [],
   "source": [
    "@log(logger)\n",
    "@resources(ait_output, path_helper, 'LSC_distribution_Plot',\"LSC_distribution_Plot.png\")\n",
    "def LSC_distributions_hist(values, n_buckets=10, percentile=95,file_path: str=None):\n",
    "    U = np.percentile(values, percentile)\n",
    "    bucket_range = [(U*(i/n_buckets), U*((i+1)/n_buckets)) for i in range(n_buckets)]\n",
    "    covered_buckets = 0\n",
    "\n",
    "    covered_buckets = [np.sum((values > lower) & (values <= upper)) for lower, upper in bucket_range]\n",
    "    bucket_labels = [f\"b{i+1}\" for i in range(n_buckets)]\n",
    "    plt.figure(figsize=(10,6))\n",
    "    plt.bar(bucket_labels,covered_buckets,width=0.8,edgecolor='black')\n",
    "    plt.title(\"Likelihood-basedSurprise Coverage Distribution\")\n",
    "    plt.xlabel(\"Bucket\")\n",
    "    plt.xlabel(\"Num of data points\")\n",
    "    plt.xticks(rotation=45)\n",
    "    plt.grid(axis='y',linestyle='--',alpha=0.7)\n",
    "    plt.tight_layout()\n",
    "    plt.savefig(file_path)\n",
    "    plt.show()"
   ]
  },
  {
   "cell_type": "code",
   "execution_count": 20,
   "metadata": {},
   "outputs": [],
   "source": [
    "@log(logger)\n",
    "@downloads(ait_output, path_helper, 'Log', 'ait.log')\n",
    "def move_log(file_path: str=None) -> str:\n",
    "    shutil.move(get_log_path(), file_path)"
   ]
  },
  {
   "cell_type": "markdown",
   "metadata": {
    "deletable": false,
    "editable": false
   },
   "source": [
    "### #9 Main Algorithms"
   ]
  },
  {
   "cell_type": "markdown",
   "metadata": {
    "deletable": false,
    "editable": false
   },
   "source": [
    "[required]"
   ]
  },
  {
   "cell_type": "code",
   "execution_count": 21,
   "metadata": {},
   "outputs": [],
   "source": [
    "@log(logger)\n",
    "@ait_main(ait_output, path_helper, is_ait_launch)\n",
    "def main() -> None:\n",
    "    train_h5_path = ait_input.get_inventory_path('train_dataset')\n",
    "    test_h5_path = ait_input.get_inventory_path('test_dataset')\n",
    "    channels = ait_input.get_method_param_value('dataset_channel')\n",
    "    train_input_dataset_name = ait_input.get_method_param_value('train_input_dataset_name')\n",
    "    train_label_dataset_name = ait_input.get_method_param_value('train_label_dataset_name')\n",
    "    test_input_dataset_name = ait_input.get_method_param_value('test_input_dataset_name')\n",
    "    test_label_dataset_name = ait_input.get_method_param_value('test_label_dataset_name')\n",
    "    \n",
    "    train_dataset = h5_dataset(train_h5_path,train_input_dataset_name,train_label_dataset_name,channels=channels)\n",
    "    test_dataset = h5_dataset(test_h5_path,test_input_dataset_name,test_label_dataset_name,channels=channels)\n",
    "    \n",
    "    train_loader = DataLoader(train_dataset, batch_size = 64, shuffle=False)\n",
    "    test_loader = DataLoader(test_dataset, batch_size = 64, shuffle=False)\n",
    "    \n",
    "    trained_model = ait_input.get_inventory_path('trained_model')\n",
    "    try:\n",
    "        model = torch.jit.load(trained_model)\n",
    "    except Exception as e:\n",
    "        print(e)\n",
    "    model.eval()\n",
    "    layer_name = get_layer_name(model)\n",
    "    \n",
    "    tracker = Activation_Tracker(model,layer_name)\n",
    "    \n",
    "    train_activations, train_labels,train_indices = get_activation_trace(train_loader,tracker,channels)\n",
    "    test_activations, test_labels ,test_indices= get_activation_trace(test_loader,tracker,channels)\n",
    "    \n",
    "    \n",
    "    analyzer = SC_Analyzer(model)\n",
    "    dsa_scores = analyzer.calculate_dsa(train_activations,train_labels,test_activations,test_labels)\n",
    "    bandwidth = ait_input.get_method_param_value('kde_bandwidth')\n",
    "    lsa_scores = analyzer.calculate_lsa(train_activations,test_activations,bandwidth=bandwidth)\n",
    "    \n",
    "    dsa_sc = analyzer.calculate_DSC(dsa_scores)\n",
    "    lsa_sc = analyzer.calculate_LSC(lsa_scores)\n",
    "    \n",
    "    \n",
    "    print(\"DSC: \",dsa_sc)\n",
    "    print(\"LSC: \",lsa_sc)\n",
    "    \n",
    "    dsc_table = DSC_distributions_table(dsa_scores,test_indices)\n",
    "    DSC_distributions_hist(dsa_scores)\n",
    "    lsc_table = LSC_distributions_table(lsa_scores,test_indices)\n",
    "    LSC_distributions_hist(lsa_scores)\n",
    "    train_dataset.close()\n",
    "    test_dataset.close()\n",
    "    \n",
    "    move_log()\n",
    "    "
   ]
  },
  {
   "cell_type": "markdown",
   "metadata": {
    "deletable": false,
    "editable": false
   },
   "source": [
    "### #10 Entry point"
   ]
  },
  {
   "cell_type": "markdown",
   "metadata": {
    "deletable": false,
    "editable": false
   },
   "source": [
    "[uneditable]"
   ]
  },
  {
   "cell_type": "code",
   "execution_count": 22,
   "metadata": {
    "deletable": false,
    "editable": false
   },
   "outputs": [
    {
     "name": "stdout",
     "output_type": "stream",
     "text": [
      "DSC:  0.9\n",
      "LSC:  1.0\n",
      "\n",
      "Distance-based Surprise Coverage Distribution(Table):\n",
      "   Bucket        Range  Count  \\\n",
      "0      b1  0.00 - 0.04      0   \n",
      "1      b2  0.04 - 0.08      0   \n",
      "2      b3  0.08 - 0.12      1   \n",
      "3      b4  0.12 - 0.16      3   \n",
      "4      b5  0.16 - 0.20     15   \n",
      "5      b6  0.20 - 0.24     18   \n",
      "6      b7  0.24 - 0.28     36   \n",
      "7      b8  0.28 - 0.32     37   \n",
      "8      b9  0.32 - 0.37     70   \n",
      "9     b10  0.37 - 0.41     70   \n",
      "10    b11  0.41 - 0.45     99   \n",
      "11    b12  0.45 - 0.49     85   \n",
      "12    b13  0.49 - 0.53     95   \n",
      "13    b14  0.53 - 0.57     85   \n",
      "14    b15  0.57 - 0.61     71   \n",
      "15    b16  0.61 - 0.65     67   \n",
      "16    b17  0.65 - 0.69     55   \n",
      "17    b18  0.69 - 0.73     37   \n",
      "18    b19  0.73 - 0.77     35   \n",
      "19    b20  0.77 - 0.81     21   \n",
      "\n",
      "                                              Indices  \n",
      "0                                                  []  \n",
      "1                                                  []  \n",
      "2                                               [572]  \n",
      "3                                     [112, 198, 941]  \n",
      "4   [21, 37, 330, 376, 381, 435, 453, 471, 537, 57...  \n",
      "5   [24, 50, 91, 99, 148, 155, 193, 296, 306, 373,...  \n",
      "6   [3, 20, 54, 84, 208, 215, 221, 294, 295, 298, ...  \n",
      "7   [67, 68, 136, 146, 175, 222, 258, 274, 286, 29...  \n",
      "8   [9, 13, 15, 34, 39, 43, 46, 48, 66, 69, 78, 80...  \n",
      "9   [10, 22, 36, 87, 178, 186, 187, 201, 211, 213,...  \n",
      "10  [1, 6, 7, 27, 29, 51, 55, 59, 64, 75, 77, 104,...  \n",
      "11  [11, 18, 19, 26, 42, 44, 45, 100, 114, 118, 12...  \n",
      "12  [0, 2, 5, 8, 12, 23, 28, 49, 62, 94, 95, 129, ...  \n",
      "13  [16, 25, 47, 52, 57, 61, 63, 71, 74, 81, 93, 1...  \n",
      "14  [4, 33, 35, 53, 58, 65, 88, 89, 144, 149, 153,...  \n",
      "15  [72, 92, 196, 210, 212, 218, 219, 230, 240, 26...  \n",
      "16  [14, 17, 30, 41, 70, 76, 79, 83, 86, 105, 142,...  \n",
      "17  [73, 90, 96, 101, 130, 147, 164, 173, 183, 190...  \n",
      "18  [31, 98, 106, 107, 120, 131, 135, 171, 180, 18...  \n",
      "19  [38, 102, 116, 203, 317, 339, 348, 400, 404, 5...  \n"
     ]
    },
    {
     "data": {
      "image/png": "[encoded data removed]",
      "text/plain": [
       "<Figure size 1000x600 with 1 Axes>"
      ]
     },
     "metadata": {},
     "output_type": "display_data"
    },
    {
     "name": "stdout",
     "output_type": "stream",
     "text": [
      "\n",
      "Likelihood-based Surprise Coverage Distribution(Table):\n",
      "  Bucket              Range  Count  \\\n",
      "0     b1      0.00 - 618.20    373   \n",
      "1     b2   618.20 - 1236.40     15   \n",
      "2     b3  1236.40 - 1854.60     52   \n",
      "3     b4  1854.60 - 2472.80     95   \n",
      "4     b5  2472.80 - 3091.00     75   \n",
      "5     b6  3091.00 - 3709.20     81   \n",
      "6     b7  3709.20 - 4327.40     69   \n",
      "7     b8  4327.40 - 4945.60     52   \n",
      "8     b9  4945.60 - 5563.80     47   \n",
      "9    b10  5563.80 - 6182.00     41   \n",
      "\n",
      "                                             Indices  \n",
      "0  [3, 4, 5, 8, 11, 13, 15, 19, 20, 21, 23, 24, 2...  \n",
      "1  [55, 178, 359, 367, 405, 446, 530, 608, 614, 6...  \n",
      "2  [1, 46, 48, 59, 62, 69, 115, 123, 125, 133, 20...  \n",
      "3  [7, 10, 27, 61, 75, 78, 117, 121, 126, 129, 14...  \n",
      "4  [12, 22, 28, 39, 49, 64, 65, 94, 108, 137, 140...  \n",
      "5  [6, 9, 42, 47, 51, 104, 106, 124, 127, 144, 14...  \n",
      "6  [25, 33, 34, 63, 79, 83, 105, 141, 153, 157, 1...  \n",
      "7  [2, 35, 53, 66, 114, 143, 152, 186, 196, 219, ...  \n",
      "8  [57, 116, 120, 138, 184, 212, 248, 284, 317, 3...  \n",
      "9  [16, 29, 32, 60, 74, 85, 93, 95, 107, 128, 149...  \n"
     ]
    },
    {
     "data": {
      "image/png": "[encoded data removed]",
      "text/plain": [
       "<Figure size 1000x600 with 1 Axes>"
      ]
     },
     "metadata": {},
     "output_type": "display_data"
    }
   ],
   "source": [
    "if __name__ == '__main__':\n",
    "    main()"
   ]
  },
  {
   "cell_type": "markdown",
   "metadata": {
    "deletable": false,
    "editable": false
   },
   "source": [
    "### #11 License"
   ]
  },
  {
   "cell_type": "markdown",
   "metadata": {
    "deletable": false,
    "editable": false
   },
   "source": [
    "[required]"
   ]
  },
  {
   "cell_type": "code",
   "execution_count": 23,
   "metadata": {},
   "outputs": [],
   "source": [
    "## sample ##\n",
    "ait_owner='AIST'\n",
    "ait_creation_year='2024'"
   ]
  },
  {
   "cell_type": "markdown",
   "metadata": {
    "deletable": false,
    "editable": false
   },
   "source": [
    "### #12 Deployment"
   ]
  },
  {
   "cell_type": "markdown",
   "metadata": {
    "deletable": false,
    "editable": false
   },
   "source": [
    "[uneditable] "
   ]
  },
  {
   "cell_type": "code",
   "execution_count": 24,
   "metadata": {
    "deletable": false,
    "editable": false
   },
   "outputs": [],
   "source": [
    "if not is_ait_launch:\n",
    "    from ait_sdk.deploy import prepare_deploy\n",
    "    from ait_sdk.license.license_generator import LicenseGenerator\n",
    "    \n",
    "    current_dir = %pwd\n",
    "    prepare_deploy(ait_sdk_name, current_dir, requirements_path)\n",
    "    \n",
    "    # output License.txt\n",
    "    license_generator = LicenseGenerator()\n",
    "    license_generator.write('../top_dir/LICENSE.txt', ait_creation_year, ait_owner)\n"
   ]
  },
  {
   "cell_type": "code",
   "execution_count": null,
   "metadata": {},
   "outputs": [],
   "source": []
  }
 ],
 "metadata": {
  "celltoolbar": "Edit Metadata",
  "kernelspec": {
   "display_name": "Python 3 (ipykernel)",
   "language": "python",
   "name": "python3"
  },
  "language_info": {
   "codemirror_mode": {
    "name": "ipython",
    "version": 3
   },
   "file_extension": ".py",
   "mimetype": "text/x-python",
   "name": "python",
   "nbconvert_exporter": "python",
   "pygments_lexer": "ipython3",
   "version": "3.10.16"
  },
  "vscode": {
   "interpreter": {
    "hash": "cc00c6a56d87bd8bd7773e730c60ddfdb8804da6b7537df09499efbcf81630f7"
   }
  }
 },
 "nbformat": 4,
 "nbformat_minor": 4
}
